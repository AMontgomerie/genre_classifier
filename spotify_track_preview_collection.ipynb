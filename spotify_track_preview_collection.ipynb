{
 "cells": [
  {
   "cell_type": "code",
   "execution_count": null,
   "metadata": {},
   "outputs": [],
   "source": [
    "import os\n",
    "import sys\n",
    "import numpy as np\n",
    "import pandas as pd\n",
    "import spotipy\n",
    "from spotipy.oauth2 import SpotifyClientCredentials\n",
    "import time\n",
    "from urllib import request\n",
    "from urllib.request import urlretrieve\n",
    "import librosa\n",
    "from librosa import display\n",
    "import matplotlib.pyplot as plt\n",
    "import skimage\n",
    "from shutil import copy2"
   ]
  },
  {
   "cell_type": "code",
   "execution_count": null,
   "metadata": {},
   "outputs": [],
   "source": [
    "#get authorization to access spotify\n",
    "\n",
    "def spotify_login(cid, secret):\n",
    "    client_credentials_manager = SpotifyClientCredentials(client_id=cid, client_secret=secret) \n",
    "    return spotipy.Spotify(client_credentials_manager=client_credentials_manager)\n",
    "\n",
    "cid = \"ce04ddc6529f417bab8b71ac9174b9d7\" \n",
    "secret = \"5750250bbcd446609d76d2313801e78c\"\n",
    "\n",
    "sp = spotify_login(cid, secret)"
   ]
  },
  {
   "cell_type": "code",
   "execution_count": null,
   "metadata": {},
   "outputs": [],
   "source": [
    "tracks = {} "
   ]
  },
  {
   "cell_type": "code",
   "execution_count": null,
   "metadata": {},
   "outputs": [],
   "source": [
    "#load spotify data into a dictionary\n",
    "\n",
    "def add_playlist_to_dict(dictionary, user_id, playlist_id, genre):\n",
    "    playlist_tracks = get_playlist_tracks(user_id, playlist_id)\n",
    "    playlist_name = get_playlist_name(user_id, playlist_id)\n",
    "    print(\"Adding \" + playlist_name + \".\")\n",
    "    for i in range((len(playlist_tracks))):\n",
    "        current_track = playlist_tracks[i]['track']\n",
    "        if current_track:\n",
    "            track_id = current_track['id']\n",
    "            if track_id:\n",
    "                dictionary[track_id] = {}\n",
    "                track_data = dictionary[track_id]     \n",
    "                artists = current_track['artists']\n",
    "                track_data['playlist'] = playlist_name\n",
    "                add_track_data(track_data, current_track, artists)\n",
    "                add_playlist_genre(track_data, genre)\n",
    "                add_artist_genres(track_data, artists)\n",
    "                \n",
    "def get_playlist_name(user_id, playlist_id):\n",
    "    results = sp.user_playlist(user_id, playlist_id)\n",
    "    name = results['name']\n",
    "    return name\n",
    "\n",
    "def get_playlist_tracks(user_id, playlist_id):\n",
    "    results = sp.user_playlist_tracks(user_id, playlist_id)\n",
    "    tracks = results['items']\n",
    "    while results['next']:\n",
    "        results = sp.next(results)\n",
    "        tracks.extend(results['items'])\n",
    "    return tracks\n",
    "                \n",
    "def add_track_data(track_data, current_track, artists):\n",
    "    track_data['track_name'] = current_track['name']\n",
    "    track_data['track_artists'] = [artist['name'] for artist in artists]\n",
    "    track_data['preview_url'] = current_track['preview_url']\n",
    "    \n",
    "def add_playlist_genre(track_data, genre):\n",
    "    track_data['genre_short'] = genre\n",
    "        \n",
    "def add_artist_genres(track_data, artists):\n",
    "    artist_ids = [artist['id'] for artist in artists] #get a list of ids from the simplified artist objects\n",
    "    artists = sp.artists(artist_ids) #use the list of ids to get the full artist objects\n",
    "    track_data['genre_long'] = [genre for artist in artists['artists'] for genre in artist['genres']]"
   ]
  },
  {
   "cell_type": "code",
   "execution_count": null,
   "metadata": {},
   "outputs": [],
   "source": [
    "#query spotify for track data\n",
    "\n",
    "def get_playlists_by_genre(genre, offset):\n",
    "    results = sp.search(genre, offset=offset, limit=results_per_page, type='playlist')\n",
    "    return results['playlists']['items']\n",
    "\n",
    "def add_playlists(playlists):\n",
    "    for playlist in playlists:\n",
    "        playlist_id = playlist['id']\n",
    "        user_id = playlist['owner']['id']\n",
    "        if user_id and playlist_id:\n",
    "            add_playlist_to_dict(tracks, user_id, playlist_id, genre)\n",
    "\n",
    "def delay(count, interval):\n",
    "    sleep_min = 2\n",
    "    sleep_max = 5\n",
    "    if count % interval == 0:\n",
    "        time.sleep(np.random.uniform(sleep_min, sleep_max))\n",
    "\n",
    "\n",
    "genres = [\"pop\", \"rock\", \"rap\", \"metal\", \"house\", \"r&b\", \"classical\", \"techno\", \"jazz\", \"folk\"]\n",
    "results_per_page = 50\n",
    "num_pages = 2\n",
    "start_from = 0\n",
    "request_count = 0\n",
    "        \n",
    "for genre in genres:\n",
    "    print(\"=====Getting data for \" + genre + \".=====\")\n",
    "    for offset in range(start_from, (results_per_page * num_pages), results_per_page):\n",
    "        playlists = get_playlists_by_genre(genre, offset)\n",
    "        add_playlists(playlists)\n",
    "        request_count += 1\n",
    "        delay(request_count, 5)\n"
   ]
  },
  {
   "cell_type": "code",
   "execution_count": null,
   "metadata": {},
   "outputs": [],
   "source": [
    "#convert to dataframe\n",
    "\n",
    "df = pd.DataFrame.from_dict(tracks)\n",
    "df = df.T\n",
    "df['index'] = range(0, len(df))\n",
    "df.reset_index(inplace=True)\n",
    "df.rename(columns = {\"level_0\" : \"track_id\"}, inplace=True)\n",
    "df.drop_duplicates('track_id', inplace=True)\n",
    "df.sample(5)"
   ]
  },
  {
   "cell_type": "code",
   "execution_count": null,
   "metadata": {},
   "outputs": [],
   "source": [
    "df.to_csv(os.path.join(sys.path[0], \"spotify_track_preview_data_2.csv\"))\n",
    "df['genre_short'].value_counts()"
   ]
  },
  {
   "cell_type": "code",
   "execution_count": null,
   "metadata": {},
   "outputs": [],
   "source": [
    "#download track previews from urls in dataframe\n",
    "\n",
    "mp3_folder = \"C:/Users/adamm/Documents/previews_from_spotify/\"\n",
    "\n",
    "preview_unavailable = []\n",
    "\n",
    "for index, row in df.iterrows():\n",
    "    track_id = row.track_id\n",
    "    track_url = row.preview_url\n",
    "    if track_url and not os.path.exists(mp3_folder + str(track_id) + \".mp3\"):\n",
    "        full_path = os.path.join(mp3_folder, str(track_id) + \".mp3\")\n",
    "        try:\n",
    "            urlretrieve(track_url, full_path) #downloads the file from url\n",
    "        except Exception as e:\n",
    "            #print(\"Unable to download preview.\")\n",
    "            preview_unavailable.append(int(index))\n",
    "    else:\n",
    "        preview_unavailable.append(int(index))\n",
    "\n",
    "num_downloaded = len(df.index) - len(preview_unavailable)\n",
    "print(\"Downloaded \" +  num_downloaded + \"/\" + len(df.index) + \" mp3 previews.\")\n",
    "\n",
    "df.drop(df.index[preview_unavailable], inplace=True)\n",
    "df.reset_index(drop=True, inplace=True)"
   ]
  },
  {
   "cell_type": "code",
   "execution_count": null,
   "metadata": {
    "scrolled": true
   },
   "outputs": [],
   "source": [
    "#convert mp3 to a melspectogram and save as png\n",
    "\n",
    "spectogram_folder = \"C:/Users/adamm/Documents/preview_spectograms/\"\n",
    "\n",
    "def scale_minmax(X, min=0.0, max=1.0):\n",
    "    X_std = (X - X.min()) / (X.max() - X.min())\n",
    "    X_scaled = X_std * (max - min) + min\n",
    "    return X_scaled\n",
    "\n",
    "for index, row in df.iterrows():\n",
    "    track_id = str(row.track_id)\n",
    "    genre_folder = str(row.genre_short) + \"/\"\n",
    "    prefix = track_id[0] + \"/\"\n",
    "    full_directory = spectogram_folder + genre_folder + prefix\n",
    "    \n",
    "    if not os.path.exists(full_directory + track_id + \".png\"):\n",
    "  \n",
    "        #make a spectogram from an mp3 file\n",
    "        file_name = mp3_folder + track_id + \".mp3\"\n",
    "        y, sr = librosa.load(file_name)\n",
    "        spect = librosa.feature.melspectrogram(y=y, sr=sr)\n",
    "        spect = np.log(spect + 1e-9)\n",
    "        spect = scale_minmax(spect, 0, 255).astype(np.uint8)\n",
    "        spect = np.flip(spect, axis=0) #low freq. at the bottom\n",
    "        spect = 255 - spect\n",
    "        \n",
    "        #save the spectogram in the relevant sub-folder\n",
    "        if not os.path.isdir(full_directory):\n",
    "            Path(full_directory).mkdirs()\n",
    "        skimage.io.imsave(full_directory + track_id + \".png\", spect)"
   ]
  },
  {
   "cell_type": "code",
   "execution_count": null,
   "metadata": {
    "scrolled": true
   },
   "outputs": [],
   "source": [
    "#create a small sample dataset\n",
    "\n",
    "sample_size = 100\n",
    "sample_categories = ['techno', 'classical']\n",
    "full_dataset = pd.read_csv(os.path.join(sys.path[0], \"spotify_track_preview_data.csv\"))\n",
    "samples = []\n",
    "\n",
    "for category in sample_categories:\n",
    "    genre_data = full_dataset[full_dataset['genre_short'] == category]\n",
    "    genre_data = genre_data[pd.notnull(genre_data['preview_url'])]\n",
    "    genre_data = genre_data[genre_data['genre_short'] == category].sample(sample_size) \n",
    "    samples.append(genre_data)\n",
    "    \n",
    "sample_data = pd.concat(samples)\n",
    "sample_data.reset_index(drop=True, inplace=True)\n",
    "del sample_data['Unnamed: 0']\n",
    "\n",
    "sample_data.to_csv(os.path.join(sys.path[0], \"spotify_track_preview_data_sample.csv\"))"
   ]
  },
  {
   "cell_type": "code",
   "execution_count": null,
   "metadata": {},
   "outputs": [],
   "source": [
    "#copy spectograms of selected sample into a separate folder\n",
    "\n",
    "dataset_folder = \"C:/Users/adamm/Documents/preview_spectograms/\"\n",
    "sample_folder = \"C:/Users/adamm/Documents/preview_spectogram_samples/\"\n",
    "\n",
    "for index, row in sample_data.iterrows():\n",
    "    image_name = str(row.track_id) + \".png\"\n",
    "    copy2(dataset_folder + image_name, sample_folder + image_name)"
   ]
  },
  {
   "cell_type": "code",
   "execution_count": null,
   "metadata": {},
   "outputs": [],
   "source": []
  }
 ],
 "metadata": {
  "kernelspec": {
   "display_name": "Python 3",
   "language": "python",
   "name": "python3"
  },
  "language_info": {
   "codemirror_mode": {
    "name": "ipython",
    "version": 3
   },
   "file_extension": ".py",
   "mimetype": "text/x-python",
   "name": "python",
   "nbconvert_exporter": "python",
   "pygments_lexer": "ipython3",
   "version": "3.7.4"
  }
 },
 "nbformat": 4,
 "nbformat_minor": 2
}
