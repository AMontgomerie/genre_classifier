{
 "cells": [
  {
   "cell_type": "code",
   "execution_count": null,
   "metadata": {},
   "outputs": [],
   "source": [
    "import os\n",
    "import sys\n",
    "import numpy as np\n",
    "import pandas as pd\n",
    "import spotipy\n",
    "from spotipy.oauth2 import SpotifyClientCredentials\n",
    "import time\n",
    "from urllib import request\n",
    "from urllib.request import urlretrieve\n",
    "import librosa\n",
    "from librosa import display\n",
    "import matplotlib.pyplot as plt\n",
    "import skimage\n",
    "from shutil import copy2\n",
    "import random\n",
    "from pathlib import Path"
   ]
  },
  {
   "cell_type": "code",
   "execution_count": null,
   "metadata": {},
   "outputs": [],
   "source": [
    "track_filepath = os.path.join(sys.path[0], \"metal_subgenre_data.csv\")\n",
    "df = pd.read_csv(track_filepath)\n",
    "del df['Unnamed: 0']\n",
    "del df['Unnamed: 0.1']\n",
    "del df['index']"
   ]
  },
  {
   "cell_type": "code",
   "execution_count": null,
   "metadata": {},
   "outputs": [],
   "source": [
    "df['genre'].unique()"
   ]
  },
  {
   "cell_type": "code",
   "execution_count": null,
   "metadata": {
    "scrolled": true
   },
   "outputs": [],
   "source": [
    "#convert mp3 to a melspectrogram and save as png\n",
    "\n",
    "mp3_folder = os.path.join(sys.path[0], \"metal_track_previews/\")\n",
    "spectrogram_folder = os.path.join(sys.path[0], \"/metal_spectrograms/\")\n",
    "\n",
    "def scale_minmax(X, min=0.0, max=1.0):\n",
    "    X_std = (X - X.min()) / (X.max() - X.min())\n",
    "    X_scaled = X_std * (max - min) + min\n",
    "    return X_scaled\n",
    "\n",
    "i = 0\n",
    "for index, row in df.iterrows():        \n",
    "    track_id = str(row['track_id'])\n",
    "    prefix = track_id[0:2] + \"/\"\n",
    "    full_directory = spectrogram_folder + prefix\n",
    "    \n",
    "    if not os.path.exists(full_directory + track_id + \".png\"):\n",
    "  \n",
    "        try:\n",
    "            #make a spectrogram from an mp3 file\n",
    "            file_name = mp3_folder + prefix + track_id + \".mp3\"\n",
    "            y, sr = librosa.load(file_name)\n",
    "            spect = librosa.feature.melspectrogram(y=y, sr=sr)\n",
    "            spect = np.log(spect + 1e-9)\n",
    "            spect = scale_minmax(spect, 0, 255).astype(np.uint8)\n",
    "            spect = np.flip(spect, axis=0) #low freq. at the bottom\n",
    "            spect = 255 - spect\n",
    "\n",
    "            #save the spectrogram in the relevant sub-folder\n",
    "            if not os.path.isdir(full_directory):\n",
    "                os.makedirs(full_directory)\n",
    "\n",
    "            skimage.io.imsave(full_directory + track_id + \".png\", spect) \n",
    "\n",
    "            i += 1\n",
    "            if i % 1000 == 0:\n",
    "                print(str(i) + \" spectrograms made.\")\n",
    "                \n",
    "        except Exception as e:\n",
    "            print(e)\n",
    "            print(\"Skipping track.\")"
   ]
  },
  {
   "cell_type": "code",
   "execution_count": null,
   "metadata": {},
   "outputs": [],
   "source": [
    "df['genre'].value_counts()"
   ]
  },
  {
   "cell_type": "code",
   "execution_count": null,
   "metadata": {},
   "outputs": [],
   "source": []
  }
 ],
 "metadata": {
  "kernelspec": {
   "display_name": "Python 3",
   "language": "python",
   "name": "python3"
  },
  "language_info": {
   "codemirror_mode": {
    "name": "ipython",
    "version": 3
   },
   "file_extension": ".py",
   "mimetype": "text/x-python",
   "name": "python",
   "nbconvert_exporter": "python",
   "pygments_lexer": "ipython3",
   "version": "3.7.4"
  }
 },
 "nbformat": 4,
 "nbformat_minor": 2
}
