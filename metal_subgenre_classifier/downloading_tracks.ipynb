{
 "cells": [
  {
   "cell_type": "code",
   "execution_count": 1,
   "metadata": {},
   "outputs": [],
   "source": [
    "import os\n",
    "import sys\n",
    "import numpy as np\n",
    "import pandas as pd\n",
    "import spotipy\n",
    "from spotipy.oauth2 import SpotifyClientCredentials\n",
    "import time\n",
    "from urllib import request\n",
    "from urllib.request import urlretrieve\n",
    "import librosa\n",
    "from librosa import display\n",
    "import matplotlib.pyplot as plt\n",
    "import skimage\n",
    "from shutil import copy2\n",
    "import random\n",
    "from pathlib import Path"
   ]
  },
  {
   "cell_type": "code",
   "execution_count": 2,
   "metadata": {},
   "outputs": [
    {
     "name": "stderr",
     "output_type": "stream",
     "text": [
      "C:\\Users\\adamm\\Anaconda3\\lib\\site-packages\\IPython\\core\\interactiveshell.py:3058: DtypeWarning: Columns (10,25) have mixed types. Specify dtype option on import or set low_memory=False.\n",
      "  interactivity=interactivity, compiler=compiler, result=result)\n"
     ]
    }
   ],
   "source": [
    "track_filepath = os.path.join(sys.path[0], \"metal_subgenre_data.csv\")\n",
    "df = pd.read_csv(track_filepath)\n",
    "del df['Unnamed: 0']\n",
    "del df['Unnamed: 0.1']\n",
    "del df['index']\n",
    "df.drop_duplicates(subset=\"track_id\", inplace=True)"
   ]
  },
  {
   "cell_type": "code",
   "execution_count": 4,
   "metadata": {},
   "outputs": [
    {
     "data": {
      "text/plain": [
       "array(['thrash metal', 'nwobhm', 'glam metal', 'mathcore', 'death metal',\n",
       "       'nu metal', 'doom metal', 'hard rock', 'punk', 'industrial metal',\n",
       "       'technical death metal', 'metalcore', 'hardcore', 'black metal',\n",
       "       'progressive metal', 'deathcore', 'power metal',\n",
       "       'melodic death metal', 'crust punk', 'stoner rock', 'goregrind',\n",
       "       'grindcore', 'folk metal', 'djent', 'slam death metal',\n",
       "       'sludge metal', 'funeral doom', 'screamo', 'blackgaze',\n",
       "       'depressive black metal', 'symphonic metal', 'drone metal'],\n",
       "      dtype=object)"
      ]
     },
     "execution_count": 4,
     "metadata": {},
     "output_type": "execute_result"
    }
   ],
   "source": [
    "df['genre'].unique()"
   ]
  },
  {
   "cell_type": "code",
   "execution_count": 5,
   "metadata": {},
   "outputs": [],
   "source": [
    "#get authorization to access spotify\n",
    "\n",
    "def spotify_login(cid, secret):\n",
    "    client_credentials_manager = SpotifyClientCredentials(client_id=cid, client_secret=secret) \n",
    "    return spotipy.Spotify(client_credentials_manager=client_credentials_manager)\n",
    "\n",
    "cid = \"############################\" \n",
    "secret = \"############################\" \n",
    "\n",
    "sp = spotify_login(cid, secret)"
   ]
  },
  {
   "cell_type": "code",
   "execution_count": 7,
   "metadata": {
    "scrolled": true
   },
   "outputs": [
    {
     "name": "stdout",
     "output_type": "stream",
     "text": [
      "Downloaded 133504/133504 mp3 previews.\n"
     ]
    }
   ],
   "source": [
    "#download track previews from urls in dataframe\n",
    "\n",
    "mp3_folder = os.path.join(sys.path[0], \"/metal_track_previews/\")\n",
    "\n",
    "preview_unavailable = []\n",
    "\n",
    "i = 0\n",
    "skip = 0\n",
    "for index, row in df.iterrows():\n",
    "    track_id = str(row['track_id'])\n",
    "    track_url = row['preview_url'] \n",
    "    prefix = track_id[0:2] + \"/\"\n",
    "    full_directory = mp3_folder + prefix\n",
    "    \n",
    "    if track_url:\n",
    "        \n",
    "        #check if the mp3 file already exists\n",
    "        if not os.path.exists(full_directory + track_id + \".mp3\"):\n",
    "            \n",
    "            #make the folder if we don't have it alreadt\n",
    "            if not os.path.isdir(full_directory):\n",
    "                os.makedirs(full_directory)\n",
    "            \n",
    "            #try to download the track\n",
    "            try:\n",
    "                urlretrieve(track_url, full_directory + track_id + \".mp3\")\n",
    "                i += 1\n",
    "                if i % 1000 == 0:\n",
    "                    print(str(i) + \" tracks downloaded.\")\n",
    "            except Exception as e:\n",
    "                print(e)\n",
    "                print(\"Skipping track.\")\n",
    "                preview_unavailable.append(int(index))\n",
    "              \n",
    "    else:\n",
    "        preview_unavailable.append(int(index))\n",
    "\n",
    "num_downloaded = len(df.index) - len(preview_unavailable)\n",
    "print(\"Downloaded \" +  str(num_downloaded) + \"/\" + str(len(df.index)) + \" mp3 previews.\")\n",
    "\n",
    "#df.drop(df.index[preview_unavailable], inplace=True)\n",
    "#df.reset_index(drop=True, inplace=True)"
   ]
  },
  {
   "cell_type": "code",
   "execution_count": null,
   "metadata": {},
   "outputs": [],
   "source": []
  }
 ],
 "metadata": {
  "kernelspec": {
   "display_name": "Python 3",
   "language": "python",
   "name": "python3"
  },
  "language_info": {
   "codemirror_mode": {
    "name": "ipython",
    "version": 3
   },
   "file_extension": ".py",
   "mimetype": "text/x-python",
   "name": "python",
   "nbconvert_exporter": "python",
   "pygments_lexer": "ipython3",
   "version": "3.7.4"
  }
 },
 "nbformat": 4,
 "nbformat_minor": 2
}
